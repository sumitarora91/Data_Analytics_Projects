{
 "cells": [
  {
   "cell_type": "markdown",
   "metadata": {},
   "source": [
    "# CSE 801a - Intro to Big Data Analysis"
   ]
  },
  {
   "cell_type": "markdown",
   "metadata": {},
   "source": [
    "## Assignment 01 - Web Crawler"
   ]
  },
  {
   "cell_type": "markdown",
   "metadata": {},
   "source": [
    "<p><b>The below code implements a Web Crawler as part of Assignment Exercise 01 for CSE 801a Course.\n",
    "    The logic of this code is to build a program which feeds in a static Web URL as an entry point and from there on implements a SPIDER which crawls through the links present on that website and further the links present on those links (Parent - Child - GrandChild type of implementation)</b></p>"
   ]
  },
  {
   "cell_type": "markdown",
   "metadata": {},
   "source": [
    "<b>*************************************************************************************************</b>"
   ]
  },
  {
   "cell_type": "markdown",
   "metadata": {},
   "source": [
    "<p>We will follow up with instructions to make a third person help in understanding the logic behind this code</p>"
   ]
  },
  {
   "cell_type": "markdown",
   "metadata": {},
   "source": [
    "<br>\n",
    "<b>First we'll import all the necessary libraries required to implement our Spider (Web Crawler)</b>"
   ]
  },
  {
   "cell_type": "code",
   "execution_count": 1,
   "metadata": {},
   "outputs": [],
   "source": [
    "import requests\n",
    "from bs4 import BeautifulSoup\n",
    "from urllib.parse import urlparse,urljoin\n",
    "import urllib\n",
    "import pandas as pd"
   ]
  },
  {
   "cell_type": "markdown",
   "metadata": {},
   "source": [
    "<b>In the below code cell we are supplying the entry point to the crawler (The first link to start the crawler).\n",
    "    Further we are defining 3 empty lists to store the crawled:\n",
    "    <ol>\n",
    "        <li>Source URL</li>\n",
    "        <li>Target URL</li>\n",
    "        <li>Title of Target URL</li>\n",
    "    </ol>\n",
    "    <br>\n",
    "    After that we are extracting the domain of the website and parsing the URL using Netloc to genearte a standard URL to crawl relatively linked external pages in the same domain (home_url will ensure that)<b>"
   ]
  },
  {
   "cell_type": "code",
   "execution_count": 3,
   "metadata": {},
   "outputs": [
    {
     "data": {
      "text/plain": [
       "'https://en.wikipedia.org/wiki/Manchester_United_F.C.'"
      ]
     },
     "execution_count": 3,
     "metadata": {},
     "output_type": "execute_result"
    }
   ],
   "source": [
    "BaseURL = 'https://en.wikipedia.org/wiki/Manchester_United_F.C.'\n",
    "URL_SOURCE = []\n",
    "URL_TARGET = []\n",
    "URL_TITLE  = []\n",
    "domain = urlparse(BaseURL).netloc\n",
    "parsed_url = urllib.parse.urlparse(BaseURL)\n",
    "home_url = parsed_url.scheme + '://' + parsed_url.netloc + parsed_url.path #Preparing the Base or Home URL \n",
    "#for the supplied link to access and retrieve the relatively linked webpages within a page\n",
    "parsed_url\n",
    "home_url"
   ]
  },
  {
   "cell_type": "markdown",
   "metadata": {},
   "source": [
    "<b>In the below cell we are creating a list to store all the commonly used image extenstion which will further be used to filter the hyperlinks pointing to an image through anchor (< a >) tag rather than an actual webpage</b>"
   ]
  },
  {
   "cell_type": "code",
   "execution_count": 4,
   "metadata": {},
   "outputs": [],
   "source": [
    "image_list =['.jpg','.png','jpeg','.svg','.gif','.tif','.tiff','.bmp','.raw','.cr2','.nef','.orf','.sr2']"
   ]
  },
  {
   "cell_type": "markdown",
   "metadata": {},
   "source": [
    "<b> Below cell is used to define a function \"find_title\" which will be used to extract the title of the supplied URL (Title of the target page in our case)</b>"
   ]
  },
  {
   "cell_type": "code",
   "execution_count": 5,
   "metadata": {},
   "outputs": [],
   "source": [
    "def find_title(title_link):\n",
    "    try:\n",
    "        with urllib.request.urlopen(title_link) as response:\n",
    "            title_links_1 = response.read()\n",
    "            soup_title = BeautifulSoup(title_links_1)\n",
    "            title_of_page = soup_title.title.text\n",
    "    except: #Handling the case in which the call to the URL fails due to any kind of HTTP Error.\n",
    "            #later such URLS with blank title would be skipped/ignored\n",
    "        title_of_page = ''\n",
    "    return title_of_page"
   ]
  },
  {
   "cell_type": "markdown",
   "metadata": {},
   "source": [
    "<b> Bellow cell is implementing a function \"link_list_generator\" which feeds in a URL from where the function is called and further collects all the hyperlinks (External one on same domain) on that URL and returns it back to the point from where the function was called in form of a list of hyperlinks(URLS)</b>"
   ]
  },
  {
   "cell_type": "code",
   "execution_count": 6,
   "metadata": {},
   "outputs": [],
   "source": [
    "def link_list_generator(URL_LINK):\n",
    "    with urllib.request.urlopen(URL_LINK) as response:\n",
    "        all_links = response.read()\n",
    "        bs_all_links = BeautifulSoup(all_links)\n",
    "        required_links = set()\n",
    "        for link in bs_all_links.body.find_all('a'):\n",
    "            href = link.attrs.get(\"href\")\n",
    "            if href == \"\" or href is None: #Ignoring URLs without an actual reference\n",
    "                continue\n",
    "            else:\n",
    "                if href.find(\"#\") != -1: #Ignoring internal links that is links to the same page\n",
    "                    continue\n",
    "                else:\n",
    "                    href = urljoin(home_url, href) #Joining the relative URL with home url to obtain actual \n",
    "                                                    #External URL\n",
    "                    if domain in href:         #Checking if the URL is in same domain\n",
    "                        required_links.add(href)\n",
    "    return required_links"
   ]
  },
  {
   "cell_type": "code",
   "execution_count": 7,
   "metadata": {},
   "outputs": [
    {
     "name": "stdout",
     "output_type": "stream",
     "text": [
      "[]\n"
     ]
    }
   ],
   "source": [
    "print(URL_SOURCE) #To check if list contains anything"
   ]
  },
  {
   "cell_type": "markdown",
   "metadata": {},
   "source": [
    "<b>Below code will append the values for first iteration with the entry point URL</b>"
   ]
  },
  {
   "cell_type": "code",
   "execution_count": 8,
   "metadata": {},
   "outputs": [],
   "source": [
    "if (len(URL_SOURCE) == 0): #Updating the list with first iteration as per the specified requirement\n",
    "    URL_SOURCE.append('None')\n",
    "    URL_TARGET.append(BaseURL)\n",
    "    base_url_title = find_title(BaseURL)\n",
    "    #print(f'Base {base_url_title}')\n",
    "    URL_TITLE.append(base_url_title)"
   ]
  },
  {
   "cell_type": "markdown",
   "metadata": {},
   "source": [
    "<b>Below cell is implementing our main function <i><u>crawler</u></i> which feeds in on a URL then performs certains checks and validations and populates our lists which are of interest to us namely <i>URL_SOURCE</i>, <i>URL_TARGET</i>, and <i>URL_TITLE</i>(for the target page)</b>"
   ]
  },
  {
   "cell_type": "code",
   "execution_count": 9,
   "metadata": {},
   "outputs": [],
   "source": [
    "def crawler(URL):\n",
    "    crawler_count = 0\n",
    "    if (len(URL_SOURCE) > 0):\n",
    "        requested_urls = link_list_generator(URL)\n",
    "        for link1 in requested_urls:\n",
    "            if link1 in URL_SOURCE:\n",
    "                continue #Ignoring links already present in source URL\n",
    "            else:\n",
    "                image_contains = [image_check for image_check in image_list if(image_check in link1)]\n",
    "                image_contains = bool(image_contains) #Checking with the link is of type image instead of actual link\n",
    "                if image_contains == True:\n",
    "                    continue #ignoring imaging type URLS\n",
    "                else:\n",
    "                    if (len(URL_SOURCE) < 100): #Ensuring that 100 URLS are not already crawled\n",
    "                        target_url = link1\n",
    "                        target_title = find_title(target_url)\n",
    "                        if (crawler_count < 20): #Ensuring that only 20 links are crawled per parent URL\n",
    "                                                 #Limited Crawling concept\n",
    "                            if (target_url in URL_SOURCE) or (target_url in URL_TARGET) or (target_title in URL_TITLE):\n",
    "                                continue #Ignoring target URLS already in Source or target and fetching the next ones\n",
    "                            else:\n",
    "                                if target_title == '':\n",
    "                                    continue #Ignoring URLS without a title\n",
    "                                else:\n",
    "                                    #print(f'{crawler_count} : {target_title}')\n",
    "                                    URL_SOURCE.append(URL)\n",
    "                                    URL_TARGET.append(target_url)\n",
    "                                    URL_TITLE.append(target_title)\n",
    "                                    crawler_count += 1\n",
    "                        else:\n",
    "                            if (target_url in URL_SOURCE) or (target_url in URL_TARGET) or (target_title in URL_TITLE):\n",
    "                                continue\n",
    "                            else:\n",
    "                                try:\n",
    "                                    with urllib.request.urlopen(target_url) as response:\n",
    "                                        URL_NEW = target_url\n",
    "                                        crawler(URL_NEW) #Recursively Calling the Crawler function to crawl the remaing\n",
    "                                                            #Urls for every 20 iterations per URL max to ensure\n",
    "                                                            #One parent has only 20 direct childs\n",
    "                                except urllib.error.HTTPError as e:\n",
    "                                    continue\n",
    "                    else:\n",
    "                        break"
   ]
  },
  {
   "cell_type": "markdown",
   "metadata": {},
   "source": [
    "<b>Below cell will implement the logic to call the <i><u>crawler</u></i> function using the entry URL</b>"
   ]
  },
  {
   "cell_type": "markdown",
   "metadata": {},
   "source": [
    "#### Note: The crawler function might take 1-3 minutes in crawling all the required pages based on the network speeds and how heavy the site being crawled is"
   ]
  },
  {
   "cell_type": "code",
   "execution_count": 10,
   "metadata": {},
   "outputs": [],
   "source": [
    "crawler(BaseURL)"
   ]
  },
  {
   "cell_type": "markdown",
   "metadata": {},
   "source": [
    "<b> Below code cell converts the list and combines them to form a single pandas dataframe with 3 columns url_source storing the list URL_SOURCE and similarly the others </b>"
   ]
  },
  {
   "cell_type": "code",
   "execution_count": 11,
   "metadata": {},
   "outputs": [],
   "source": [
    "df_web_crawler = pd.DataFrame(list(zip(URL_SOURCE, URL_TARGET, URL_TITLE)),columns=['url_source','url_target', 'page_title_target'])"
   ]
  },
  {
   "cell_type": "markdown",
   "metadata": {},
   "source": [
    "<b> performing print, df.head(), df.tail() to check the list and dataframe contents</b>"
   ]
  },
  {
   "cell_type": "code",
   "execution_count": 12,
   "metadata": {},
   "outputs": [
    {
     "name": "stdout",
     "output_type": "stream",
     "text": [
      "100\n"
     ]
    }
   ],
   "source": [
    "print(len(URL_SOURCE))"
   ]
  },
  {
   "cell_type": "code",
   "execution_count": 13,
   "metadata": {},
   "outputs": [
    {
     "data": {
      "text/html": [
       "<div>\n",
       "<style scoped>\n",
       "    .dataframe tbody tr th:only-of-type {\n",
       "        vertical-align: middle;\n",
       "    }\n",
       "\n",
       "    .dataframe tbody tr th {\n",
       "        vertical-align: top;\n",
       "    }\n",
       "\n",
       "    .dataframe thead th {\n",
       "        text-align: right;\n",
       "    }\n",
       "</style>\n",
       "<table border=\"1\" class=\"dataframe\">\n",
       "  <thead>\n",
       "    <tr style=\"text-align: right;\">\n",
       "      <th></th>\n",
       "      <th>url_source</th>\n",
       "      <th>url_target</th>\n",
       "      <th>page_title_target</th>\n",
       "    </tr>\n",
       "  </thead>\n",
       "  <tbody>\n",
       "    <tr>\n",
       "      <th>0</th>\n",
       "      <td>None</td>\n",
       "      <td>https://en.wikipedia.org/wiki/Manchester_Unite...</td>\n",
       "      <td>Manchester United F.C. - Wikipedia</td>\n",
       "    </tr>\n",
       "    <tr>\n",
       "      <th>1</th>\n",
       "      <td>https://en.wikipedia.org/wiki/Manchester_Unite...</td>\n",
       "      <td>https://en.wikipedia.org/wiki/Portal:English_f...</td>\n",
       "      <td>Portal:English football - Wikipedia</td>\n",
       "    </tr>\n",
       "    <tr>\n",
       "      <th>2</th>\n",
       "      <td>https://en.wikipedia.org/wiki/Manchester_Unite...</td>\n",
       "      <td>https://en.wikipedia.org/wiki/War_Damage_Commi...</td>\n",
       "      <td>War Damage Commission - Wikipedia</td>\n",
       "    </tr>\n",
       "    <tr>\n",
       "      <th>3</th>\n",
       "      <td>https://en.wikipedia.org/wiki/Manchester_Unite...</td>\n",
       "      <td>https://en.wikipedia.org/wiki/Everton_F.C.</td>\n",
       "      <td>Everton F.C. - Wikipedia</td>\n",
       "    </tr>\n",
       "    <tr>\n",
       "      <th>4</th>\n",
       "      <td>https://en.wikipedia.org/wiki/Manchester_Unite...</td>\n",
       "      <td>https://en.wikipedia.org/wiki/Category:Footbal...</td>\n",
       "      <td>Category:Football clubs in England - Wikipedia</td>\n",
       "    </tr>\n",
       "    <tr>\n",
       "      <th>5</th>\n",
       "      <td>https://en.wikipedia.org/wiki/Manchester_Unite...</td>\n",
       "      <td>https://en.wikipedia.org/wiki/Football_Focus</td>\n",
       "      <td>Football Focus - Wikipedia</td>\n",
       "    </tr>\n",
       "    <tr>\n",
       "      <th>6</th>\n",
       "      <td>https://en.wikipedia.org/wiki/Manchester_Unite...</td>\n",
       "      <td>https://en.wikipedia.org/wiki/Singapore_Exchange</td>\n",
       "      <td>Singapore Exchange - Wikipedia</td>\n",
       "    </tr>\n",
       "    <tr>\n",
       "      <th>7</th>\n",
       "      <td>https://en.wikipedia.org/wiki/Manchester_Unite...</td>\n",
       "      <td>https://en.wikipedia.org/wiki/1967_FA_Charity_...</td>\n",
       "      <td>1967 FA Charity Shield - Wikipedia</td>\n",
       "    </tr>\n",
       "    <tr>\n",
       "      <th>8</th>\n",
       "      <td>https://en.wikipedia.org/wiki/Manchester_Unite...</td>\n",
       "      <td>https://en.wikipedia.org/wiki/Turkish_Airlines</td>\n",
       "      <td>Turkish Airlines - Wikipedia</td>\n",
       "    </tr>\n",
       "    <tr>\n",
       "      <th>9</th>\n",
       "      <td>https://en.wikipedia.org/wiki/Manchester_Unite...</td>\n",
       "      <td>https://en.wikipedia.org/wiki/1985%E2%80%9386_...</td>\n",
       "      <td>1985–86 European Cup Winners' Cup - Wikipedia</td>\n",
       "    </tr>\n",
       "  </tbody>\n",
       "</table>\n",
       "</div>"
      ],
      "text/plain": [
       "                                          url_source  \\\n",
       "0                                               None   \n",
       "1  https://en.wikipedia.org/wiki/Manchester_Unite...   \n",
       "2  https://en.wikipedia.org/wiki/Manchester_Unite...   \n",
       "3  https://en.wikipedia.org/wiki/Manchester_Unite...   \n",
       "4  https://en.wikipedia.org/wiki/Manchester_Unite...   \n",
       "5  https://en.wikipedia.org/wiki/Manchester_Unite...   \n",
       "6  https://en.wikipedia.org/wiki/Manchester_Unite...   \n",
       "7  https://en.wikipedia.org/wiki/Manchester_Unite...   \n",
       "8  https://en.wikipedia.org/wiki/Manchester_Unite...   \n",
       "9  https://en.wikipedia.org/wiki/Manchester_Unite...   \n",
       "\n",
       "                                          url_target  \\\n",
       "0  https://en.wikipedia.org/wiki/Manchester_Unite...   \n",
       "1  https://en.wikipedia.org/wiki/Portal:English_f...   \n",
       "2  https://en.wikipedia.org/wiki/War_Damage_Commi...   \n",
       "3         https://en.wikipedia.org/wiki/Everton_F.C.   \n",
       "4  https://en.wikipedia.org/wiki/Category:Footbal...   \n",
       "5       https://en.wikipedia.org/wiki/Football_Focus   \n",
       "6   https://en.wikipedia.org/wiki/Singapore_Exchange   \n",
       "7  https://en.wikipedia.org/wiki/1967_FA_Charity_...   \n",
       "8     https://en.wikipedia.org/wiki/Turkish_Airlines   \n",
       "9  https://en.wikipedia.org/wiki/1985%E2%80%9386_...   \n",
       "\n",
       "                                page_title_target  \n",
       "0              Manchester United F.C. - Wikipedia  \n",
       "1             Portal:English football - Wikipedia  \n",
       "2               War Damage Commission - Wikipedia  \n",
       "3                        Everton F.C. - Wikipedia  \n",
       "4  Category:Football clubs in England - Wikipedia  \n",
       "5                      Football Focus - Wikipedia  \n",
       "6                  Singapore Exchange - Wikipedia  \n",
       "7              1967 FA Charity Shield - Wikipedia  \n",
       "8                    Turkish Airlines - Wikipedia  \n",
       "9   1985–86 European Cup Winners' Cup - Wikipedia  "
      ]
     },
     "execution_count": 13,
     "metadata": {},
     "output_type": "execute_result"
    }
   ],
   "source": [
    "df_web_crawler.head(10)"
   ]
  },
  {
   "cell_type": "code",
   "execution_count": 14,
   "metadata": {},
   "outputs": [
    {
     "data": {
      "text/html": [
       "<div>\n",
       "<style scoped>\n",
       "    .dataframe tbody tr th:only-of-type {\n",
       "        vertical-align: middle;\n",
       "    }\n",
       "\n",
       "    .dataframe tbody tr th {\n",
       "        vertical-align: top;\n",
       "    }\n",
       "\n",
       "    .dataframe thead th {\n",
       "        text-align: right;\n",
       "    }\n",
       "</style>\n",
       "<table border=\"1\" class=\"dataframe\">\n",
       "  <thead>\n",
       "    <tr style=\"text-align: right;\">\n",
       "      <th></th>\n",
       "      <th>url_source</th>\n",
       "      <th>url_target</th>\n",
       "      <th>page_title_target</th>\n",
       "    </tr>\n",
       "  </thead>\n",
       "  <tbody>\n",
       "    <tr>\n",
       "      <th>90</th>\n",
       "      <td>https://en.wikipedia.org/wiki/FIFA</td>\n",
       "      <td>https://en.wikipedia.org/wiki/Cornelis_August_...</td>\n",
       "      <td>Cornelis August Wilhelm Hirschman - Wikipedia</td>\n",
       "    </tr>\n",
       "    <tr>\n",
       "      <th>91</th>\n",
       "      <td>https://en.wikipedia.org/wiki/FIFA</td>\n",
       "      <td>https://en.wikipedia.org/wiki/1994_FIFA_World_Cup</td>\n",
       "      <td>1994 FIFA World Cup - Wikipedia</td>\n",
       "    </tr>\n",
       "    <tr>\n",
       "      <th>92</th>\n",
       "      <td>https://en.wikipedia.org/wiki/FIFA</td>\n",
       "      <td>https://en.wikipedia.org/wiki/RICO</td>\n",
       "      <td>Racketeer Influenced and Corrupt Organizations...</td>\n",
       "    </tr>\n",
       "    <tr>\n",
       "      <th>93</th>\n",
       "      <td>https://en.wikipedia.org/wiki/FIFA</td>\n",
       "      <td>https://en.wikipedia.org/wiki/Valais_Women%27s...</td>\n",
       "      <td>Valais Women's Cup - Wikipedia</td>\n",
       "    </tr>\n",
       "    <tr>\n",
       "      <th>94</th>\n",
       "      <td>https://en.wikipedia.org/wiki/FIFA</td>\n",
       "      <td>https://en.wikipedia.org/wiki/Mediterranean_Fu...</td>\n",
       "      <td>Mediterranean Futsal Cup - Wikipedia</td>\n",
       "    </tr>\n",
       "    <tr>\n",
       "      <th>95</th>\n",
       "      <td>https://en.wikipedia.org/wiki/FIFA</td>\n",
       "      <td>https://en.wikipedia.org/wiki/Burundi_national...</td>\n",
       "      <td>Burundi national football team - Wikipedia</td>\n",
       "    </tr>\n",
       "    <tr>\n",
       "      <th>96</th>\n",
       "      <td>https://en.wikipedia.org/wiki/FIFA</td>\n",
       "      <td>https://en.wikipedia.org/wiki/Qatar_Airways</td>\n",
       "      <td>Qatar Airways - Wikipedia</td>\n",
       "    </tr>\n",
       "    <tr>\n",
       "      <th>97</th>\n",
       "      <td>https://en.wikipedia.org/wiki/FIFA</td>\n",
       "      <td>https://en.wikipedia.org/wiki/WAFU_Zone_B_Wome...</td>\n",
       "      <td>WAFU Zone B Women's Cup - Wikipedia</td>\n",
       "    </tr>\n",
       "    <tr>\n",
       "      <th>98</th>\n",
       "      <td>https://en.wikipedia.org/wiki/FIFA</td>\n",
       "      <td>https://en.wikipedia.org/wiki/Philippines_nati...</td>\n",
       "      <td>Philippines national football team - Wikipedia</td>\n",
       "    </tr>\n",
       "    <tr>\n",
       "      <th>99</th>\n",
       "      <td>https://en.wikipedia.org/wiki/FIFA</td>\n",
       "      <td>https://en.wikipedia.org/wiki/CECAFA_Cup</td>\n",
       "      <td>CECAFA Cup - Wikipedia</td>\n",
       "    </tr>\n",
       "  </tbody>\n",
       "</table>\n",
       "</div>"
      ],
      "text/plain": [
       "                            url_source  \\\n",
       "90  https://en.wikipedia.org/wiki/FIFA   \n",
       "91  https://en.wikipedia.org/wiki/FIFA   \n",
       "92  https://en.wikipedia.org/wiki/FIFA   \n",
       "93  https://en.wikipedia.org/wiki/FIFA   \n",
       "94  https://en.wikipedia.org/wiki/FIFA   \n",
       "95  https://en.wikipedia.org/wiki/FIFA   \n",
       "96  https://en.wikipedia.org/wiki/FIFA   \n",
       "97  https://en.wikipedia.org/wiki/FIFA   \n",
       "98  https://en.wikipedia.org/wiki/FIFA   \n",
       "99  https://en.wikipedia.org/wiki/FIFA   \n",
       "\n",
       "                                           url_target  \\\n",
       "90  https://en.wikipedia.org/wiki/Cornelis_August_...   \n",
       "91  https://en.wikipedia.org/wiki/1994_FIFA_World_Cup   \n",
       "92                 https://en.wikipedia.org/wiki/RICO   \n",
       "93  https://en.wikipedia.org/wiki/Valais_Women%27s...   \n",
       "94  https://en.wikipedia.org/wiki/Mediterranean_Fu...   \n",
       "95  https://en.wikipedia.org/wiki/Burundi_national...   \n",
       "96        https://en.wikipedia.org/wiki/Qatar_Airways   \n",
       "97  https://en.wikipedia.org/wiki/WAFU_Zone_B_Wome...   \n",
       "98  https://en.wikipedia.org/wiki/Philippines_nati...   \n",
       "99           https://en.wikipedia.org/wiki/CECAFA_Cup   \n",
       "\n",
       "                                    page_title_target  \n",
       "90      Cornelis August Wilhelm Hirschman - Wikipedia  \n",
       "91                    1994 FIFA World Cup - Wikipedia  \n",
       "92  Racketeer Influenced and Corrupt Organizations...  \n",
       "93                     Valais Women's Cup - Wikipedia  \n",
       "94               Mediterranean Futsal Cup - Wikipedia  \n",
       "95         Burundi national football team - Wikipedia  \n",
       "96                          Qatar Airways - Wikipedia  \n",
       "97                WAFU Zone B Women's Cup - Wikipedia  \n",
       "98     Philippines national football team - Wikipedia  \n",
       "99                             CECAFA Cup - Wikipedia  "
      ]
     },
     "execution_count": 14,
     "metadata": {},
     "output_type": "execute_result"
    }
   ],
   "source": [
    "df_web_crawler.tail(10)"
   ]
  },
  {
   "cell_type": "markdown",
   "metadata": {},
   "source": [
    "<b> This is the final step of the Spider/Crawler which converts the dataframe and stores it in a CSV file <i>WebCrawler.csv</i> with encoding as UTF-8 for the viewing purpose of the user</b>"
   ]
  },
  {
   "cell_type": "code",
   "execution_count": 15,
   "metadata": {},
   "outputs": [],
   "source": [
    "df_web_crawler.to_csv('crawl.csv', index=False, encoding = 'utf-8', quoting=2)"
   ]
  },
  {
   "cell_type": "markdown",
   "metadata": {},
   "source": [
    "<b> There is a bug that I have identified with python. Even if we do to_csv on a dataframe in Jupyter Notebooks and supply the encoding as <i>UTF-8</i> the windows machine overwrites it with its own equivalent charset of cp1252 so we have to live with it. But cp1252 is almost similar as the UTF-8 charset"
   ]
  }
 ],
 "metadata": {
  "kernelspec": {
   "display_name": "Python 3",
   "language": "python",
   "name": "python3"
  },
  "language_info": {
   "codemirror_mode": {
    "name": "ipython",
    "version": 3
   },
   "file_extension": ".py",
   "mimetype": "text/x-python",
   "name": "python",
   "nbconvert_exporter": "python",
   "pygments_lexer": "ipython3",
   "version": "3.8.5"
  }
 },
 "nbformat": 4,
 "nbformat_minor": 4
}
